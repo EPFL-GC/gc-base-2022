{
 "cells": [
  {
   "cell_type": "code",
   "execution_count": null,
   "id": "bcb9c6df-0417-4d0a-9990-185ce07b918b",
   "metadata": {},
   "outputs": [],
   "source": [
    "import numpy as np\n",
    "import meshplot as mp"
   ]
  },
  {
   "cell_type": "code",
   "execution_count": null,
   "id": "45981306-4fde-431e-9240-3d153a016863",
   "metadata": {},
   "outputs": [],
   "source": [
    "import igl\n",
    "import scipy as sp\n",
    "import numpy as np\n",
    "from meshplot import plot, subplot, interact\n",
    "import time\n",
    "import copy\n",
    "import matplotlib.pyplot as plt"
   ]
  },
  {
   "cell_type": "code",
   "execution_count": null,
   "id": "c39ddea4-e782-4c2b-a942-ec11610a4ceb",
   "metadata": {},
   "outputs": [],
   "source": [
    "import sys\n",
    "sys.path.append('../src')"
   ]
  },
  {
   "cell_type": "code",
   "execution_count": null,
   "id": "f58fb451-bdcf-49d7-a928-4992ab599761",
   "metadata": {},
   "outputs": [],
   "source": [
    "import importlib, utils, laplacian_utils, remesher_helper\n",
    "importlib.reload(utils)\n",
    "importlib.reload(laplacian_utils)\n",
    "importlib.reload(remesher_helper)\n",
    "from utils import parse_input_mesh, normalize_area, get_diverging_colors, plot_directions"
   ]
  },
  {
   "cell_type": "code",
   "execution_count": null,
   "id": "bb26ed62-f404-437f-977a-8ff22a19f840",
   "metadata": {},
   "outputs": [],
   "source": [
    "from fitting import compute_mesh_principal_curvatures, compute_asymptotic_directions"
   ]
  },
  {
   "cell_type": "markdown",
   "id": "8b12d84d-06a1-4315-87b2-d8bb4a6b4360",
   "metadata": {},
   "source": [
    "# Visualize Differential Quantities on Closed Surface"
   ]
  },
  {
   "cell_type": "code",
   "execution_count": null,
   "id": "cf187b60-2fbf-4f0b-9924-efe4939bafae",
   "metadata": {},
   "outputs": [],
   "source": [
    "v, f, num_bdry_vx, num_intr_vx = parse_input_mesh(\"../data/bob.obj\")"
   ]
  },
  {
   "cell_type": "code",
   "execution_count": null,
   "id": "0001ebd4-95fa-43ec-a83f-5fd3b27a7e4e",
   "metadata": {},
   "outputs": [],
   "source": [
    "face_color = np.ones(len(f))\n",
    "view_mesh = mp.plot(v, f, face_color, shading={\"wireframe\": True, \"colormap\": \"Blues\", \"normalize\": [-100, 200]})"
   ]
  },
  {
   "cell_type": "code",
   "execution_count": null,
   "id": "dcf12908-b20c-4a1c-adcf-492d23a54011",
   "metadata": {},
   "outputs": [],
   "source": [
    "k1, k2, d1, d2 = compute_mesh_principal_curvatures(v, f)"
   ]
  },
  {
   "cell_type": "markdown",
   "id": "b3294e38-ccac-4fbc-8661-71403e472cc6",
   "metadata": {},
   "source": [
    "### Gaussian Curvature"
   ]
  },
  {
   "cell_type": "code",
   "execution_count": null,
   "id": "cf601268-72af-4964-940d-211719f3123c",
   "metadata": {},
   "outputs": [],
   "source": [
    "gaussian_curvature = ... # <-- your code goes here\n",
    "gaussian_curvature[:num_bdry_vx] *= 0\n",
    "gp = mp.plot(v, f, get_diverging_colors(gaussian_curvature))"
   ]
  },
  {
   "cell_type": "markdown",
   "id": "4a3a46af-15b0-4b8c-afd4-14159774a646",
   "metadata": {},
   "source": [
    "### Mean Curvature"
   ]
  },
  {
   "cell_type": "code",
   "execution_count": null,
   "id": "7b45dd7b-57ed-4273-9b94-863eda2b0ff9",
   "metadata": {},
   "outputs": [],
   "source": [
    "mean_curvature = ... # <-- your code goes here\n",
    "mean_curvature[:num_bdry_vx] *= 0\n",
    "gp = mp.plot(v, f, get_diverging_colors(mean_curvature))"
   ]
  },
  {
   "cell_type": "markdown",
   "id": "3e30eb7f-4c81-461a-a9db-c1df00eb30ec",
   "metadata": {
    "tags": []
   },
   "source": [
    "### Principal Curvature Directions"
   ]
  },
  {
   "cell_type": "code",
   "execution_count": null,
   "id": "af8bb492-1804-463f-a028-bf3668ad0025",
   "metadata": {},
   "outputs": [],
   "source": [
    "plot_directions(v, f, d1, d2, scale=0.08)"
   ]
  },
  {
   "cell_type": "markdown",
   "id": "cd0f1247-c6f9-492b-a6b7-6b49c066db95",
   "metadata": {},
   "source": [
    "### Asymptotic Directions"
   ]
  },
  {
   "cell_type": "code",
   "execution_count": null,
   "id": "0a69749d-8bfc-4208-be41-26e1671ae97a",
   "metadata": {},
   "outputs": [],
   "source": [
    "a1, a2 = compute_asymptotic_directions(k1, k2, d1, d2)"
   ]
  },
  {
   "cell_type": "code",
   "execution_count": null,
   "id": "9bc4fbf5-c9dc-406f-b2ba-eeb9784a1c59",
   "metadata": {},
   "outputs": [],
   "source": [
    "plot_directions(v, f, a1, a2, scale=0.08)"
   ]
  },
  {
   "cell_type": "markdown",
   "id": "b34a2d6d-58f7-4a00-b365-25f7d7000f3c",
   "metadata": {
    "tags": []
   },
   "source": [
    "### Mean Curvature (Absolute Value): Paraboloid and Laplace-Beltrami Operator"
   ]
  },
  {
   "cell_type": "code",
   "execution_count": null,
   "id": "98083b0a-6724-4bc9-ba37-7075676c3dc1",
   "metadata": {},
   "outputs": [],
   "source": [
    "H_abs_paraboloid = ... # <-- your code goes here\n",
    "H_abs_paraboloid[:num_bdry_vx] *= 0\n",
    "gp = mp.plot(v, f, get_diverging_colors(H_abs_paraboloid))"
   ]
  },
  {
   "cell_type": "code",
   "execution_count": null,
   "id": "3476433b-cbc7-4642-b96f-340a4e859828",
   "metadata": {},
   "outputs": [],
   "source": [
    "from laplacian_utils import compute_cotangent_weights_matrix, compute_mass_matrix"
   ]
  },
  {
   "cell_type": "code",
   "execution_count": null,
   "id": "cf997e34-df78-4405-b5bc-58373c96db63",
   "metadata": {},
   "outputs": [],
   "source": [
    "S = compute_cotangent_weights_matrix(v, f)\n",
    "M = compute_mass_matrix(v, f)\n",
    "Minv = sp.sparse.diags(1 / M.diagonal())\n",
    "\n",
    "L = ... # <-- your code goes here\n",
    "H_abs_laplacian = ... # <-- your code goes here\n",
    "\n",
    "H_abs_laplacian[:num_bdry_vx] *= 0\n",
    "gp = mp.plot(v, f, get_diverging_colors(H_abs_laplacian))"
   ]
  }
 ],
 "metadata": {
  "kernelspec": {
   "display_name": "gc_course_env",
   "language": "python",
   "name": "gc_course_env"
  },
  "language_info": {
   "codemirror_mode": {
    "name": "ipython",
    "version": 3
   },
   "file_extension": ".py",
   "mimetype": "text/x-python",
   "name": "python",
   "nbconvert_exporter": "python",
   "pygments_lexer": "ipython3",
   "version": "3.10.6"
  }
 },
 "nbformat": 4,
 "nbformat_minor": 5
}

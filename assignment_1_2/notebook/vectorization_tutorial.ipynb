{
 "cells": [
  {
   "cell_type": "markdown",
   "id": "b8537bb8-3435-48b6-b36f-31a19f3dc9aa",
   "metadata": {
    "tags": []
   },
   "source": [
    "# Vectorization with NumPy and SciPy"
   ]
  },
  {
   "cell_type": "markdown",
   "id": "2baad9ec-f164-4162-aff7-a5aa80d5b477",
   "metadata": {},
   "source": [
    "While attractive for its simplicity and flexibility, Python is not particularly efficient when it comes to speed of execution, especially when working with large amounts of data.\n",
    "However, there are some libraries and built-in functions that allow to circumvent this problem.\n",
    "In this tutorial, we will see how to speed up Python code through vectorization with NumPy and SciPy.\n",
    "This technique will be particularly useful in your homeworks, and should be used whenever possible.\n",
    "\n",
    "You can run this notebook in the conda environment `gc_course_env`."
   ]
  },
  {
   "cell_type": "markdown",
   "id": "6a8e8353-0788-45f0-971c-b953ad1cafb5",
   "metadata": {},
   "source": [
    "## Scalar addition"
   ]
  },
  {
   "cell_type": "markdown",
   "id": "d894c1ac-0358-4603-adca-477a29b831f7",
   "metadata": {},
   "source": [
    "In this first simple example, we want to compute the average values of two ordered sets of scalars `a_1` and `a_2` with the same number of elements *n*.\n",
    "As first implementation, we can store the points in two Python lists, and define a function that iterates over the lists with a for loop:"
   ]
  },
  {
   "cell_type": "code",
   "execution_count": 1,
   "id": "bc615491-0e8c-4be6-93c9-6add054eea60",
   "metadata": {},
   "outputs": [],
   "source": [
    "def average(a_1, a_2):\n",
    "    mid_points = []\n",
    "    for i in range(len(a_1)):\n",
    "        mid_point = (a_1[i] + a_2[i]) / 2\n",
    "        mid_points.append(mid_point)\n",
    "    return mid_points"
   ]
  },
  {
   "cell_type": "markdown",
   "id": "d5ca33a5-6f90-431c-9204-dda4ac897f0c",
   "metadata": {},
   "source": [
    "To avoid the for loop, we can vectorize this operation by storing the elements iterated by the for loop along an axis of a NumPy array.\n",
    "In this case, we create two arrays of shape (*n*,).\n",
    "We can then perform the points average operation through element-wise summation between the two vectors:"
   ]
  },
  {
   "cell_type": "code",
   "execution_count": 2,
   "id": "cdb2a726-192e-404d-a316-f31a10379418",
   "metadata": {},
   "outputs": [],
   "source": [
    "def average_vectorized(a_1, a_2):\n",
    "    return (a_1 + a_2) / 2"
   ]
  },
  {
   "cell_type": "markdown",
   "id": "16289760-8daf-400f-b91c-583c0c04a92d",
   "metadata": {},
   "source": [
    "NumPy arrays can be used as input of the function `average` as well, and can be iterated as lists along the first axis.\n",
    "Let us test now the efficiency of these two funcions:"
   ]
  },
  {
   "cell_type": "code",
   "execution_count": 3,
   "id": "f00be3e4-e185-4a48-92f2-e79063de5c0a",
   "metadata": {},
   "outputs": [
    {
     "name": "stdout",
     "output_type": "stream",
     "text": [
      "for loop timing:\n",
      "3.55 ms Â± 49.3 Âµs per loop (mean Â± std. dev. of 7 runs, 100 loops each)\n",
      "vectorized timing:\n",
      "17.9 Âµs Â± 87.3 ns per loop (mean Â± std. dev. of 7 runs, 100000 loops each)\n"
     ]
    }
   ],
   "source": [
    "import numpy as np\n",
    "\n",
    "n = 10000\n",
    "\n",
    "a_1 = np.arange(n)\n",
    "a_2 = np.arange(n)\n",
    "\n",
    "print('for loop timing:')\n",
    "%timeit average(a_1, a_2)\n",
    "\n",
    "print('vectorized timing:')\n",
    "%timeit average_vectorized(a_1, a_2)"
   ]
  },
  {
   "cell_type": "markdown",
   "id": "d2d7abff-ed26-4247-bc8d-1049550599cc",
   "metadata": {},
   "source": [
    "In our test, the vectorization speedup is approximately 200 times (this value may vary on different machines). This means that a task that requires 3 hours of computation with for loops can be accomplished in less that one minute with a properly vectorized code!"
   ]
  },
  {
   "cell_type": "markdown",
   "id": "f4f82ed3-3a4e-4eb1-b1ab-cae9fd27e124",
   "metadata": {},
   "source": [
    "Note that the same functions can be used to perform an element-wise average of two ordered sets of vectors.\n",
    "In this case, we can store the vectors in two arrays `v_1` and `v_2` with shape (*n*, 3).\n",
    "We can then compare the run times of the two functions:"
   ]
  },
  {
   "cell_type": "code",
   "execution_count": 4,
   "id": "e8a8301d-d0e8-41cb-a677-cf8506493b49",
   "metadata": {},
   "outputs": [
    {
     "name": "stdout",
     "output_type": "stream",
     "text": [
      "for loop timing:\n",
      "157 ms Â± 2.11 ms per loop (mean Â± std. dev. of 7 runs, 10 loops each)\n",
      "vectorized timing:\n",
      "975 Âµs Â± 26.2 Âµs per loop (mean Â± std. dev. of 7 runs, 1000 loops each)\n"
     ]
    }
   ],
   "source": [
    "n = 100000\n",
    "\n",
    "v_1 = np.random.random((n, 3))\n",
    "v_2 = np.random.random((n, 3))\n",
    "\n",
    "print('for loop timing:')\n",
    "%timeit average(v_1, v_2)\n",
    "\n",
    "print('vectorized timing:')\n",
    "%timeit average_vectorized(v_1, v_2)"
   ]
  },
  {
   "cell_type": "markdown",
   "id": "639d6021-2c78-4d4a-865e-278c0b154bb1",
   "metadata": {},
   "source": [
    "## Vectorization of mesh face loops"
   ]
  },
  {
   "cell_type": "markdown",
   "id": "35371f6b-bed1-4897-b162-8ea66ae07de9",
   "metadata": {},
   "source": [
    "Let us consider now a triangular mesh, with vertices coordinates and faces stored, respectively, in the arrays `V` and `F`.\n",
    "We want now to compute, for instance, the three vectors that bound each mesh face that we denote as `e_1`, `e_2`, and `e_3`.\n",
    "For that, we can write a function that iterates over faces:"
   ]
  },
  {
   "cell_type": "code",
   "execution_count": 5,
   "id": "71f2574e-ede8-4e1e-96c6-6a13c99a29b1",
   "metadata": {},
   "outputs": [],
   "source": [
    "def face_vectors(V, F):\n",
    "    e_1 = []\n",
    "    e_2 = []\n",
    "    e_3 = []\n",
    "    for face in F:\n",
    "        e_1.append(V[face[1]] - V[face[0]])\n",
    "        e_2.append(V[face[2]] - V[face[1]])\n",
    "        e_3.append(V[face[0]] - V[face[2]])\n",
    "    return e_1, e_2, e_3"
   ]
  },
  {
   "cell_type": "markdown",
   "id": "f2891ff5-7971-4923-b029-cd175a5e294c",
   "metadata": {},
   "source": [
    "We want now to vectorize the loop over the faces.\n",
    "As first, note that we can extract the array containing the indices of the first vertex of each face by taking the first column of the array `F`.\n",
    "In NumPy, this can be done through [indexing](https://numpy.org/doc/stable/reference/arrays.indexing.html) as `F[:, 0]`.\n",
    "Similarly, with `F[:, 1]` and `F[:, 2]` we can extract the indices of the second and third vertex.\n",
    "\n",
    "As a simple example, let us consider the mesh:"
   ]
  },
  {
   "cell_type": "code",
   "execution_count": 6,
   "id": "8443bf6f-8ede-41b1-8e24-789da9712d4d",
   "metadata": {},
   "outputs": [],
   "source": [
    "V = np.array([[0, 0, 0], [1, 0, 0], [1, 1, 0], [0, 1, 0]])\n",
    "F = np.array([[0, 1, 2], [2, 3, 0]])"
   ]
  },
  {
   "cell_type": "markdown",
   "id": "f48f110e-0ef8-4839-bfab-d906e88105ca",
   "metadata": {},
   "source": [
    "and then we have"
   ]
  },
  {
   "cell_type": "code",
   "execution_count": 7,
   "id": "fdb7e749-f9f1-46d2-b7b7-ba1eed65773c",
   "metadata": {},
   "outputs": [
    {
     "data": {
      "text/plain": [
       "(array([0, 2]), array([1, 3]), array([2, 0]))"
      ]
     },
     "execution_count": 7,
     "metadata": {},
     "output_type": "execute_result"
    }
   ],
   "source": [
    "F[:, 0], F[:, 1], F[:, 2]"
   ]
  },
  {
   "cell_type": "markdown",
   "id": "324ed2bf-5f5b-40df-9b07-93eadbb75019",
   "metadata": {},
   "source": [
    "We can now extract the three arrays containing the coordinates of the three face vertices as follows:"
   ]
  },
  {
   "cell_type": "code",
   "execution_count": 8,
   "id": "5940b37b-b64c-4fb1-9a06-e29b48d8dd86",
   "metadata": {},
   "outputs": [
    {
     "data": {
      "text/plain": [
       "(array([[0, 0, 0],\n",
       "        [1, 1, 0]]),\n",
       " array([[1, 0, 0],\n",
       "        [0, 1, 0]]),\n",
       " array([[1, 1, 0],\n",
       "        [0, 0, 0]]))"
      ]
     },
     "execution_count": 8,
     "metadata": {},
     "output_type": "execute_result"
    }
   ],
   "source": [
    "V[F[:, 0]], V[F[:, 1]], V[F[:, 2]]"
   ]
  },
  {
   "cell_type": "markdown",
   "id": "fd887253-ae24-4c6c-9dea-cde356e37a84",
   "metadata": {},
   "source": [
    "We can then rewrite our function in a vectorized way as"
   ]
  },
  {
   "cell_type": "code",
   "execution_count": 9,
   "id": "9236c97e-65b3-4d0e-a2f2-c600f0a65847",
   "metadata": {},
   "outputs": [],
   "source": [
    "def face_vectors_vectorized(V, F):\n",
    "    e_1 = V[F[:, 1]] - V[F[:, 0]]\n",
    "    e_2 = V[F[:, 2]] - V[F[:, 1]]\n",
    "    e_3 = V[F[:, 0]] - V[F[:, 2]]\n",
    "    return e_1, e_2, e_3"
   ]
  },
  {
   "cell_type": "markdown",
   "id": "922801b9-94c0-442d-882e-c7aa4a16e67d",
   "metadata": {},
   "source": [
    "To test these implementations, we first define a function that builds a triangular mesh grid with *n* x *n* vertices as follows:"
   ]
  },
  {
   "cell_type": "code",
   "execution_count": 10,
   "id": "cb7d8625-8310-4b85-addf-390167aa0fa1",
   "metadata": {},
   "outputs": [],
   "source": [
    "def triangular_grid(n):\n",
    "    G = np.arange(n * n).reshape(n, n)\n",
    "    v1 = G[:-1, :-1].flatten()\n",
    "    v2 = G[:-1, 1:].flatten()\n",
    "    v3 = G[1:, 1:].flatten()\n",
    "    v4 = G[1:, :-1].flatten()\n",
    "    F1 = np.column_stack((v1, v3, v4))\n",
    "    F2 = np.column_stack((v1, v2, v3))\n",
    "    F = np.vstack((F1, F2))\n",
    "    Vx, Vy = np.meshgrid(np.linspace(0, 1, n), np.linspace(0, 1, n))\n",
    "    V = np.column_stack((Vx.flatten(), Vy.flatten(), np.zeros(n * n)))\n",
    "    return V, F"
   ]
  },
  {
   "cell_type": "markdown",
   "id": "16842619-8164-4e8d-9da6-600861e315b7",
   "metadata": {},
   "source": [
    "We can now time the two functions:"
   ]
  },
  {
   "cell_type": "code",
   "execution_count": 11,
   "id": "70106ac9-9e51-4820-a620-dc40d48f70b5",
   "metadata": {},
   "outputs": [
    {
     "name": "stdout",
     "output_type": "stream",
     "text": [
      "for loop timing:\n",
      "60.4 ms Â± 193 Âµs per loop (mean Â± std. dev. of 7 runs, 10 loops each)\n",
      "vectorized timing:\n",
      "1.32 ms Â± 17.7 Âµs per loop (mean Â± std. dev. of 7 runs, 1000 loops each)\n"
     ]
    }
   ],
   "source": [
    "n = 100\n",
    "\n",
    "V, F = triangular_grid(n)\n",
    "\n",
    "print('for loop timing:')\n",
    "%timeit face_vectors(V, F)\n",
    "\n",
    "print('vectorized timing:')\n",
    "%timeit face_vectors_vectorized(V, F)"
   ]
  },
  {
   "cell_type": "markdown",
   "id": "caa08ba6-8d2f-4fa3-8ea6-0e2c4bd0af49",
   "metadata": {},
   "source": [
    "## Vectorization of face-vertices sums"
   ]
  },
  {
   "cell_type": "markdown",
   "id": "7dc9cc18-759e-458d-8c40-46e61a6aa096",
   "metadata": {},
   "source": [
    "Let us now imagine to have, on a mesh, some scalar values defined for each face. We want then to sum at vertices the values of each incident face. If face scalars are collected in the vector `values` of shape (#`F`,), we can compute the sums at vertices with a for loop:"
   ]
  },
  {
   "cell_type": "code",
   "execution_count": 12,
   "id": "5c2d8f05-52cd-4da7-a80d-c026ffe76fc3",
   "metadata": {},
   "outputs": [],
   "source": [
    "def vertex_faces_sum(values, F):\n",
    "    vertex_sum = np.zeros(np.max(F) + 1) # initializes all sums to zero. max(F) + 1 gives the total number of vertices.\n",
    "    for f in range(len(F)):\n",
    "        for v in F[f]:\n",
    "            vertex_sum[v] += values[f]\n",
    "    return vertex_sum        "
   ]
  },
  {
   "cell_type": "markdown",
   "id": "5f7c1224-c584-49f0-b4a4-1489c5aef758",
   "metadata": {},
   "source": [
    "Note that if face values are all equal to one,  this function returns the number of incident faces at each vertex."
   ]
  },
  {
   "cell_type": "markdown",
   "id": "900ed21e-3774-4964-9b73-c71e83ca45f3",
   "metadata": {},
   "source": [
    "To vectorize this function, a strategy is to build a matrix `M` of shape (#`V`, #`F`) with row index `i` corresponding to vertices and column index `j` corresponding to faces, place in position `i,j` the scalar belonging to face `j` if this face is incident to vertex `i` or zero otherwise, and sum along rows.\n",
    "In this way, we get an array of shape (#`V`,) with vertex sums in `i` position.\n",
    "\n",
    "Since on a mesh few faces are incident to each vertex, the matrix `M` will contain mostly zeros.\n",
    "An efficient way to deal with such data is through sparse matrices which store only non-zero entries.\n",
    "SciPy provides several data structures for sparse matrices in Python.\n",
    "In this example, we will use a matrix in [coordinate format](https://docs.scipy.org/doc/scipy/reference/generated/scipy.sparse.coo_matrix.html#scipy.sparse.coo_matrix) that can be constructed by providing the array `values` containing non-zero entries, the arrays `i`, `j` with the corresponding indices, and the matrix shape.\n",
    "\n",
    "This function can be implemented as follows:"
   ]
  },
  {
   "cell_type": "code",
   "execution_count": 13,
   "id": "a4dff512-b1c7-4643-a1bf-f87ba580c3f1",
   "metadata": {},
   "outputs": [],
   "source": [
    "from scipy import sparse\n",
    "\n",
    "def vertex_faces_sum_vectorized(values, F):\n",
    "    i = F.flatten('F')\n",
    "    j = np.arange(len(F))\n",
    "    j = np.tile(j, 3)\n",
    "    M = sparse.coo_matrix((values[j], (i, j)), (np.max(F) + 1, len(F)))\n",
    "    vertex_sum = np.array(M.sum(axis=1)).flatten()\n",
    "    return vertex_sum"
   ]
  },
  {
   "cell_type": "markdown",
   "id": "c5e3b745-2aa8-4f4d-97cb-b7acbcd74d04",
   "metadata": {},
   "source": [
    "We can test now the corresponding execution times:"
   ]
  },
  {
   "cell_type": "code",
   "execution_count": 14,
   "id": "a245e365-c536-4c52-ad4b-ec8010166afd",
   "metadata": {},
   "outputs": [
    {
     "name": "stdout",
     "output_type": "stream",
     "text": [
      "for loop timing:\n",
      "32.6 ms Â± 311 Âµs per loop (mean Â± std. dev. of 7 runs, 10 loops each)\n",
      "vectorized timing:\n",
      "490 Âµs Â± 7.91 Âµs per loop (mean Â± std. dev. of 7 runs, 1000 loops each)\n"
     ]
    }
   ],
   "source": [
    "values = np.ones(len(F))\n",
    "\n",
    "print('for loop timing:')\n",
    "%timeit vertex_faces_sum(values, F)\n",
    "\n",
    "print('vectorized timing:')\n",
    "%timeit vertex_faces_sum_vectorized(values, F)"
   ]
  },
  {
   "cell_type": "markdown",
   "id": "eeb628fa-82a8-4a2d-8d21-9e1762361596",
   "metadata": {},
   "source": [
    "In our test, we found a speed up of approximately 50 times. This is still a significant improvement."
   ]
  },
  {
   "cell_type": "markdown",
   "id": "93108906-72ae-4b9a-978d-751a523c932b",
   "metadata": {},
   "source": [
    "## Example: vectorized mesh area gradient"
   ]
  },
  {
   "cell_type": "markdown",
   "id": "4d72a35f-80ea-4ae7-9329-cc96c0422562",
   "metadata": {},
   "source": [
    "We want now to compute the gradient of the mesh area $A_\\Omega$ with respect to the $x$ coordinate of a vertex $v$, denoted as $x_v$.\n",
    "Since a change of $x_v$ will influence only the area of its incident faces $f\\sim v$, the gradient is given by\n",
    "$$\\frac{\\partial A_{\\Omega}}{\\partial x_v} = \\sum_{f\\sim v} \\frac{\\partial A_f}{\\partial x_v}$$\n",
    "where $A_f$ is the area of the face $f$.\n",
    "In this case, we have to sum, at each vertex, the scalars $\\frac{\\partial A_f}{\\partial x_v}$ defined at face vertices.\n",
    "\n",
    "For a triangular mesh, we can collect these values in an array of shape (#`F`, 3), where each column contains the derivative of $A_f$ with respect to one of its three vertices.\n",
    "To perform the sum, we can define a function that loops over faces:"
   ]
  },
  {
   "cell_type": "code",
   "execution_count": 15,
   "id": "6547d8c8-5d2d-4455-a61f-fa9990d854fd",
   "metadata": {},
   "outputs": [],
   "source": [
    "def vertex_faces_gradients(dAx_f, F):\n",
    "    dAx = np.zeros(np.max(F) + 1)\n",
    "    for f in range(len(F)):\n",
    "        for v in range(len(F[f])):\n",
    "            dAx[F[f, v]] += dAx_f[f, v]\n",
    "    return dAx  "
   ]
  },
  {
   "cell_type": "markdown",
   "id": "369d86bc-f9d6-4bf3-a80c-f3b63b6c121f",
   "metadata": {},
   "source": [
    "To vectorize this operation, we can sligthly modify our function `vertex_faces_sum_vectorized` as follows:"
   ]
  },
  {
   "cell_type": "code",
   "execution_count": 16,
   "id": "40072472-ec40-438a-bad0-edab35a92dcb",
   "metadata": {},
   "outputs": [],
   "source": [
    "def vertex_faces_gradients_vectorized(dAx_f, F):\n",
    "    i = F.flatten('F')\n",
    "    j = np.arange(len(F))\n",
    "    j = np.tile(j, 3)\n",
    "    M = sparse.coo_matrix((dAx_f.flatten('F'), (i, j)), (np.max(F) + 1, len(F)))\n",
    "    dAx = np.array(M.sum(axis=1)).flatten()\n",
    "    return dAx"
   ]
  },
  {
   "cell_type": "markdown",
   "id": "eef489dd-0ac7-46c8-9eed-ad13f6c9d742",
   "metadata": {},
   "source": [
    "and we can test the execution times of these two functions:"
   ]
  },
  {
   "cell_type": "code",
   "execution_count": 17,
   "id": "2072c4cc-0d09-490a-b2c4-e8c948c27676",
   "metadata": {},
   "outputs": [
    {
     "name": "stdout",
     "output_type": "stream",
     "text": [
      "for loop timing:\n",
      "32.5 ms Â± 261 Âµs per loop (mean Â± std. dev. of 7 runs, 10 loops each)\n",
      "vectorized timing:\n",
      "391 Âµs Â± 5.53 Âµs per loop (mean Â± std. dev. of 7 runs, 1000 loops each)\n"
     ]
    }
   ],
   "source": [
    "dAx_f = np.ones((len(F), 3))\n",
    "\n",
    "print('for loop timing:')\n",
    "%timeit vertex_faces_gradients(dAx_f, F)\n",
    "\n",
    "print('vectorized timing:')\n",
    "%timeit vertex_faces_gradients_vectorized(dAx_f, F)"
   ]
  },
  {
   "cell_type": "markdown",
   "id": "7a48dd1e-8042-407e-b9bb-2b8cc45aceea",
   "metadata": {},
   "source": [
    "## Vectorization of cells-vertices sums"
   ]
  },
  {
   "cell_type": "markdown",
   "id": "ed7cf10a-8830-4048-95ae-7c421ab5114a",
   "metadata": {},
   "source": [
    "Consider now to sum at vertices quantities from incident edges or from incident edge vertices (as for instance the gradient of edge lengths with respect to its two vertices).\n",
    "For that, we can use a function similar to `vertex_faces_gradients_vectorized` defined above.\n",
    "In this case, we have to provide, instead of `F`, the array `E` of shape (#edges, 2) containing in each row the indices of the two vertices connected by the edge.\n",
    "Such array can be computed with [Libigl](https://libigl.github.io/tutorial/) as `E = igl.edges(F)`.\n",
    "\n",
    "More generally, we can sum values at vertices from incident *n*-cells (if *n* = 2 the cell is an edge, if *n* = 3 a triange, if *n* = 4 a quadrilateral or a tetrahedron depending on the data structure, and so on).\n",
    "We can define a generic function that works for *n*-cells and that can perform sums both per-cell and per-cell-vertex as follows:"
   ]
  },
  {
   "cell_type": "code",
   "execution_count": 18,
   "id": "30899dbb-1d93-4419-8e66-4b56c2f10274",
   "metadata": {},
   "outputs": [],
   "source": [
    "def vertex_cells_sum(values, cells):\n",
    "    \"\"\"\n",
    "    Sums values at vertices from each incident n-cell.\n",
    "\n",
    "    Input:\n",
    "    - values : np.array (#cells,) or (#cells, n)\n",
    "        The cell values to be summed at vertices.\n",
    "        If shape (#cells,): The value is per-cell,\n",
    "        If shape (#cells, n): The value is per-cell-vertex.\n",
    "        The value (i, j) corresponds to cell vertex (i, j)\n",
    "    - cells : np.array (#cells, n)\n",
    "        The array of cells.\n",
    "    Output:\n",
    "    - v_sum : np.array (#vertices,)\n",
    "        A vector with the sum at each i-th vertex in i-th position.\n",
    "    Note:\n",
    "        If n = 2 the cell is an edge, if n = 3 the cell is a triangle,\n",
    "        if n = 4 the cell can be a tetrahedron or a quadrilateral,\n",
    "        depending on the data structure.\n",
    "    \"\"\"\n",
    "    i = cells.flatten('F')\n",
    "    j = np.arange(len(cells))\n",
    "    j = np.tile(j, cells.shape[1])\n",
    "    v = values.flatten('F')\n",
    "    if len(v) == len(cells): # tests if values are per-cell.\n",
    "        v = v[j]\n",
    "    v_sum = sparse.coo_matrix((v, (i, j)), (np.max(cells) + 1, len(cells)))\n",
    "    return np.array(v_sum.sum(axis=1)).flatten()"
   ]
  }
 ],
 "metadata": {
  "kernelspec": {
   "display_name": "Python 3 (ipykernel)",
   "language": "python",
   "name": "python3"
  },
  "language_info": {
   "codemirror_mode": {
    "name": "ipython",
    "version": 3
   },
   "file_extension": ".py",
   "mimetype": "text/x-python",
   "name": "python",
   "nbconvert_exporter": "python",
   "pygments_lexer": "ipython3",
   "version": "3.10.6"
  }
 },
 "nbformat": 4,
 "nbformat_minor": 5
}
